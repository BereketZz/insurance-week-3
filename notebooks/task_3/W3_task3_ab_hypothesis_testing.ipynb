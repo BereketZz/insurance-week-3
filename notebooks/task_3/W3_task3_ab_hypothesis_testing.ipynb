{
  "nbformat": 4,
  "nbformat_minor": 0,
  "metadata": {
    "colab": {
      "provenance": []
    },
    "kernelspec": {
      "name": "python3",
      "display_name": "Python 3"
    },
    "language_info": {
      "name": "python"
    }
  },
  "cells": [
    {
      "cell_type": "code",
      "execution_count": null,
      "metadata": {
        "id": "fc6vjQtMTTKZ"
      },
      "outputs": [],
      "source": [
        "# import Libraries\n",
        "import pandas as pd\n",
        "import numpy as np\n",
        "from scipy import stats\n",
        "import statsmodels.api as sm\n",
        "import warnings\n",
        "warnings.filterwarnings(\"ignore\")"
      ]
    },
    {
      "cell_type": "code",
      "source": [
        "# Load the dataset\n",
        "file_path = \"MachineLearningRating_v3.txt\"\n",
        "df = pd.read_csv(file_path, sep=\"|\")"
      ],
      "metadata": {
        "id": "IDi4vJx8TtvW"
      },
      "execution_count": null,
      "outputs": []
    },
    {
      "cell_type": "code",
      "source": [
        "#  Ensure required columns are present\n",
        "required_cols = ['TotalClaims', 'TotalPremium', 'Province', 'PostalCode', 'Gender']\n",
        "missing_cols = [col for col in required_cols if col not in df.columns]\n",
        "if missing_cols:\n",
        "    raise KeyError(f\"The following required columns are missing: {missing_cols}\")"
      ],
      "metadata": {
        "id": "Wie3JoZ-UARF"
      },
      "execution_count": null,
      "outputs": []
    },
    {
      "cell_type": "code",
      "source": [
        "#  Rename 'PostalCode' to 'ZipCode' to standardize\n",
        "df.rename(columns={'PostalCode': 'ZipCode'}, inplace=True)"
      ],
      "metadata": {
        "id": "nHWIhHphYtQ5"
      },
      "execution_count": null,
      "outputs": []
    },
    {
      "cell_type": "code",
      "source": [
        "#  Handle missing or assumed data\n",
        "# Create NumberOfClaims if it doesn't exist — assume 1 claim if TotalClaims > 0\n",
        "if 'NumberOfClaims' not in df.columns:\n",
        "    df['NumberOfClaims'] = df['TotalClaims'].apply(lambda x: 1 if x > 0 else 0)"
      ],
      "metadata": {
        "id": "vNdExwuvY3Zv"
      },
      "execution_count": null,
      "outputs": []
    },
    {
      "cell_type": "code",
      "source": [
        "# ➕ Create derived metrics\n",
        "df['claim_flag'] = df['TotalClaims'].apply(lambda x: 1 if x > 0 else 0)  # Binary flag\n",
        "df['claim_severity'] = df.apply(lambda x: x['TotalClaims'] / x['NumberOfClaims'] if x['NumberOfClaims'] > 0 else np.nan, axis=1)\n",
        "df['margin'] = df['TotalPremium'] - df['TotalClaims']"
      ],
      "metadata": {
        "id": "fXMql7GEUD0w"
      },
      "execution_count": null,
      "outputs": []
    },
    {
      "cell_type": "code",
      "source": [
        "# Function to perform chi-squared test for claim frequency\n",
        "def chi_square_test(group1, group2):\n",
        "    claim1, n1 = group1['claim_flag'].sum(), len(group1)\n",
        "    claim2, n2 = group2['claim_flag'].sum(), len(group2)\n",
        "    contingency = np.array([[claim1, n1 - claim1], [claim2, n2 - claim2]])\n",
        "    chi2, p, _, _ = stats.chi2_contingency(contingency)\n",
        "    return p"
      ],
      "metadata": {
        "id": "rm4QFZEZUHd-"
      },
      "execution_count": null,
      "outputs": []
    },
    {
      "cell_type": "code",
      "source": [
        "#  Function to perform t-test for continuous variables\n",
        "def t_test(group1, group2, column):\n",
        "    data1, data2 = group1[column].dropna(), group2[column].dropna()\n",
        "    t_stat, p = stats.ttest_ind(data1, data2, equal_var=False)\n",
        "    return p"
      ],
      "metadata": {
        "id": "5Vt-hwDFUOXS"
      },
      "execution_count": null,
      "outputs": []
    },
    {
      "cell_type": "code",
      "source": [
        "# Hypothesis 1: Risk differences across provinces (claim_flag)\n",
        "print(\"1. Province Differences (Claim Frequency):\")\n",
        "provinces = df['Province'].dropna().unique()\n",
        "for i in range(len(provinces)):\n",
        "    for j in range(i+1, len(provinces)):\n",
        "        g1 = df[df['Province'] == provinces[i]]\n",
        "        g2 = df[df['Province'] == provinces[j]]\n",
        "        p_val = chi_square_test(g1, g2)\n",
        "        print(f\"   {provinces[i]} vs {provinces[j]} --> p = {p_val:.4f} --> {'REJECTED' if p_val < 0.05 else 'NOT Rejected'}\")"
      ],
      "metadata": {
        "colab": {
          "base_uri": "https://localhost:8080/"
        },
        "id": "P5fwvByVUPqu",
        "outputId": "951e5b4f-9e79-4023-ed26-2d444e94f19a"
      },
      "execution_count": null,
      "outputs": [
        {
          "output_type": "stream",
          "name": "stdout",
          "text": [
            "1. Province Differences (Claim Frequency):\n",
            "   Gauteng vs KwaZulu-Natal --> p = 0.0020 --> REJECTED\n",
            "   Gauteng vs Mpumalanga --> p = 0.0005 --> REJECTED\n",
            "   Gauteng vs Eastern Cape --> p = 0.0000 --> REJECTED\n",
            "   Gauteng vs Western Cape --> p = 0.0000 --> REJECTED\n",
            "   Gauteng vs Limpopo --> p = 0.0902 --> NOT Rejected\n",
            "   Gauteng vs North West --> p = 0.0000 --> REJECTED\n",
            "   Gauteng vs Free State --> p = 0.0027 --> REJECTED\n",
            "   Gauteng vs Northern Cape --> p = 0.0053 --> REJECTED\n",
            "   KwaZulu-Natal vs Mpumalanga --> p = 0.1212 --> NOT Rejected\n",
            "   KwaZulu-Natal vs Eastern Cape --> p = 0.0002 --> REJECTED\n",
            "   KwaZulu-Natal vs Western Cape --> p = 0.0001 --> REJECTED\n",
            "   KwaZulu-Natal vs Limpopo --> p = 0.7308 --> NOT Rejected\n",
            "   KwaZulu-Natal vs North West --> p = 0.0292 --> REJECTED\n",
            "   KwaZulu-Natal vs Free State --> p = 0.0175 --> REJECTED\n",
            "   KwaZulu-Natal vs Northern Cape --> p = 0.0247 --> REJECTED\n",
            "   Mpumalanga vs Eastern Cape --> p = 0.0237 --> REJECTED\n",
            "   Mpumalanga vs Western Cape --> p = 0.2886 --> NOT Rejected\n",
            "   Mpumalanga vs Limpopo --> p = 0.5334 --> NOT Rejected\n",
            "   Mpumalanga vs North West --> p = 1.0000 --> NOT Rejected\n",
            "   Mpumalanga vs Free State --> p = 0.0797 --> NOT Rejected\n",
            "   Mpumalanga vs Northern Cape --> p = 0.0872 --> NOT Rejected\n",
            "   Eastern Cape vs Western Cape --> p = 0.0795 --> NOT Rejected\n",
            "   Eastern Cape vs Limpopo --> p = 0.0101 --> REJECTED\n",
            "   Eastern Cape vs North West --> p = 0.0112 --> REJECTED\n",
            "   Eastern Cape vs Free State --> p = 0.6705 --> NOT Rejected\n",
            "   Eastern Cape vs Northern Cape --> p = 0.5841 --> NOT Rejected\n",
            "   Western Cape vs Limpopo --> p = 0.1129 --> NOT Rejected\n",
            "   Western Cape vs North West --> p = 0.1246 --> NOT Rejected\n",
            "   Western Cape vs Free State --> p = 0.1561 --> NOT Rejected\n",
            "   Western Cape vs Northern Cape --> p = 0.1578 --> NOT Rejected\n",
            "   Limpopo vs North West --> p = 0.4851 --> NOT Rejected\n",
            "   Limpopo vs Free State --> p = 0.0432 --> REJECTED\n",
            "   Limpopo vs Northern Cape --> p = 0.0503 --> NOT Rejected\n",
            "   North West vs Free State --> p = 0.0688 --> NOT Rejected\n",
            "   North West vs Northern Cape --> p = 0.0780 --> NOT Rejected\n",
            "   Free State vs Northern Cape --> p = 1.0000 --> NOT Rejected\n"
          ]
        }
      ]
    },
    {
      "cell_type": "code",
      "source": [
        "# Hypothesis 2: Risk differences between zip codes (claim_flag, claim_severity)\n",
        "print(\"\\n2. Zip Code Differences:\")\n",
        "# Pick top 2 zip codes by frequency\n",
        "top_zips = df['ZipCode'].value_counts().nlargest(2).index.tolist()\n",
        "zip1, zip2 = top_zips[0], top_zips[1]\n",
        "g1 = df[df['ZipCode'] == zip1]\n",
        "g2 = df[df['ZipCode'] == zip2]\n",
        "\n",
        "p_claim_freq = chi_square_test(g1, g2)\n",
        "p_claim_sev = t_test(g1, g2, 'claim_severity')\n",
        "print(f\"   Claim Frequency ({zip1} vs {zip2}): p = {p_claim_freq:.4f} --> {'REJECTED' if p_claim_freq < 0.05 else 'NOT Rejected'}\")\n",
        "print(f\"   Claim Severity  ({zip1} vs {zip2}): p = {p_claim_sev:.4f} --> {'REJECTED' if p_claim_sev < 0.05 else 'NOT Rejected'}\")"
      ],
      "metadata": {
        "colab": {
          "base_uri": "https://localhost:8080/"
        },
        "id": "iz7t-p6NUSwu",
        "outputId": "1f41e8e1-04a2-4643-ef7c-0b9f3fccec72"
      },
      "execution_count": null,
      "outputs": [
        {
          "output_type": "stream",
          "name": "stdout",
          "text": [
            "\n",
            "2. Zip Code Differences:\n",
            "   Claim Frequency (2000 vs 122): p = 0.0579 --> NOT Rejected\n",
            "   Claim Severity  (2000 vs 122): p = 0.7002 --> NOT Rejected\n"
          ]
        }
      ]
    },
    {
      "cell_type": "code",
      "source": [
        "# Hypothesis 3: Margin difference between zip codes\n",
        "p_margin = t_test(g1, g2, 'margin')\n",
        "print(f\"   Margin Difference ({zip1} vs {zip2}): p = {p_margin:.4f} --> {'REJECTED' if p_margin < 0.05 else 'NOT Rejected'}\")"
      ],
      "metadata": {
        "colab": {
          "base_uri": "https://localhost:8080/"
        },
        "id": "f99P3CxXUa07",
        "outputId": "ac67f611-d1a2-4b11-bdcc-6d04c5a19d2b"
      },
      "execution_count": null,
      "outputs": [
        {
          "output_type": "stream",
          "name": "stdout",
          "text": [
            "   Margin Difference (2000 vs 122): p = 0.2445 --> NOT Rejected\n"
          ]
        }
      ]
    },
    {
      "cell_type": "code",
      "source": [
        "# Hypothesis 4: Risk difference by gender (claim_flag, claim_severity)\n",
        "print(\"\\n3. Gender Differences:\")\n",
        "g_m = df[df['Gender'] == 'Male']\n",
        "g_f = df[df['Gender'] == 'Female']\n",
        "\n",
        "p_gender_freq = chi_square_test(g_m, g_f)\n",
        "p_gender_sev = t_test(g_m, g_f, 'claim_severity')\n",
        "print(f\"   Claim Frequency (Male vs Female): p = {p_gender_freq:.4f} --> {'REJECTED' if p_gender_freq < 0.05 else 'NOT Rejected'}\")\n",
        "print(f\"   Claim Severity  (Male vs Female): p = {p_gender_sev:.4f} --> {'REJECTED' if p_gender_sev < 0.05 else 'NOT Rejected'}\")\n"
      ],
      "metadata": {
        "colab": {
          "base_uri": "https://localhost:8080/"
        },
        "id": "J0kRZRv6UhqT",
        "outputId": "8324c47d-8f61-460a-cd21-bcc718a99a13"
      },
      "execution_count": null,
      "outputs": [
        {
          "output_type": "stream",
          "name": "stdout",
          "text": [
            "\n",
            "3. Gender Differences:\n",
            "   Claim Frequency (Male vs Female): p = 0.9515 --> NOT Rejected\n",
            "   Claim Severity  (Male vs Female): p = 0.5680 --> NOT Rejected\n"
          ]
        }
      ]
    }
  ]
}